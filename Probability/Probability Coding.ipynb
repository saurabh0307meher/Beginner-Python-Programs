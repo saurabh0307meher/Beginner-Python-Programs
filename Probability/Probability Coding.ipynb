{
 "cells": [
  {
   "cell_type": "code",
   "execution_count": null,
   "metadata": {},
   "outputs": [],
   "source": [
    "!pip install matplotlib\n",
    "!pip isntall numpy"
   ]
  },
  {
   "cell_type": "markdown",
   "metadata": {},
   "source": [
    "# Median"
   ]
  },
  {
   "cell_type": "code",
   "execution_count": 44,
   "metadata": {
    "scrolled": true
   },
   "outputs": [
    {
     "name": "stdout",
     "output_type": "stream",
     "text": [
      "Median if even number of digits 3.0\n"
     ]
    }
   ],
   "source": [
    "data = [2,4,3,5,1,6,7,8]\n",
    "\n",
    "n = int(len(data))\n",
    "\n",
    "\n",
    "if(n%2==0):\n",
    "    print(\"Median if even number of digits\",(data[(n//2)]+data[(n//2)-1])/2)\n",
    "else:\n",
    "    print(\"Median if odd number of digits\",data[n//2])"
   ]
  },
  {
   "cell_type": "markdown",
   "metadata": {},
   "source": [
    "# Mode"
   ]
  },
  {
   "cell_type": "code",
   "execution_count": 70,
   "metadata": {},
   "outputs": [
    {
     "name": "stdout",
     "output_type": "stream",
     "text": [
      "[1, 2, 3, 4, 5]\n",
      "Counter({1: 1, 2: 1, 3: 1, 4: 1, 5: 1})\n",
      "{1: 1, 2: 1, 3: 1, 4: 1, 5: 1}\n",
      "No mode found\n"
     ]
    }
   ],
   "source": [
    "from collections import Counter\n",
    "\n",
    "n_num = [1,2,3,4,5]\n",
    "n = len(n_num)\n",
    "print(n_num)\n",
    "data = Counter(n_num)\n",
    "print(data)\n",
    "get_mode = dict(data)\n",
    "print(get_mode)\n",
    "mode = [k for k, v in get_mode.items() if v == max(list(data.values()))]\n",
    "\n",
    "if len(mode) == n:\n",
    "    get_mode = \"No mode found\"\n",
    "else:\n",
    "    get_mode = \"Mode is:\"+','.join(map(str,mode))\n",
    "\n",
    "print(get_mode)"
   ]
  },
  {
   "cell_type": "markdown",
   "metadata": {},
   "source": [
    "### Good use of for loop"
   ]
  },
  {
   "cell_type": "code",
   "execution_count": 85,
   "metadata": {},
   "outputs": [
    {
     "name": "stdout",
     "output_type": "stream",
     "text": [
      "11.666666666666666\n",
      "4.666666666666666\n"
     ]
    }
   ],
   "source": [
    "data = [11,10,12,9,13,15]\n",
    "n = len(data)\n",
    "\n",
    "mean = sum(data)/n\n",
    "print(mean)\n",
    "\n",
    "\n",
    "variance = sum((data[i]-mean)**2 for data[i] in data)/(n-1)\n",
    "print(variance)\n"
   ]
  },
  {
   "cell_type": "markdown",
   "metadata": {},
   "source": [
    "# Standard Deviation\n",
    "# Variance"
   ]
  },
  {
   "cell_type": "code",
   "execution_count": 97,
   "metadata": {},
   "outputs": [
    {
     "name": "stdout",
     "output_type": "stream",
     "text": [
      "Standard Deviation 1.2909944487358056\n",
      "Variance 1.6666666666666667\n"
     ]
    }
   ],
   "source": [
    "import numpy as np\n",
    "import statistics as st\n",
    "sample = [1,2,3,4]\n",
    "\n",
    "print(\"Standard Deviation\",st.stdev(sample))\n",
    "print(\"Variance\",st.variance(sample))"
   ]
  },
  {
   "cell_type": "code",
   "execution_count": 103,
   "metadata": {},
   "outputs": [
    {
     "name": "stdout",
     "output_type": "stream",
     "text": [
      "0.0\n"
     ]
    }
   ],
   "source": [
    "import statistics as st\n",
    "sample_space = [1,1,1,1,1,1]\n",
    "\n",
    "print(st.stdev(sample_space))"
   ]
  },
  {
   "cell_type": "markdown",
   "metadata": {},
   "source": [
    "# Binomial distributuin\n",
    "\n",
    "Question 1\n",
    "Out of 800 families with 4 children each, how many families would be expected to have\n",
    "1) 2 boys 2 girls\n",
    "2) Atleast 1 boy\n",
    "Assume equal probabilities for both boys and girls\n",
    "\n",
    "Let X be the random variable specifies boy (X is number of boys)"
   ]
  },
  {
   "cell_type": "code",
   "execution_count": 141,
   "metadata": {},
   "outputs": [
    {
     "name": "stdout",
     "output_type": "stream",
     "text": [
      "0.375\n",
      "0.0625\n",
      "0.9375\n",
      "300.0\n",
      "750.0\n"
     ]
    }
   ],
   "source": [
    "import math\n",
    "\n",
    "def nCr(n,k):\n",
    "    f = math.factorial\n",
    "    return f(n) / f(k) / f(n-k)\n",
    "\n",
    "n=4\n",
    "k1=2\n",
    "k2=0\n",
    "p=0.5\n",
    "q=1-p\n",
    "binomial = nCr(n,k1)*p**k1*q**(n-k1)\n",
    "\n",
    "first = nCr(n,k2)*p**k2*q**(n-k2)\n",
    "\n",
    "ans = 1-first\n",
    "\n",
    "print(ans)\n",
    "print(800*binomial)\n",
    "print(800*ans)\n",
    "\n"
   ]
  },
  {
   "cell_type": "code",
   "execution_count": 152,
   "metadata": {},
   "outputs": [
    {
     "name": "stdout",
     "output_type": "stream",
     "text": [
      "50.0\n",
      "0.010843866711637987\n",
      "0.021499631196827983\n"
     ]
    }
   ],
   "source": [
    "import math as m\n",
    "\n",
    "n =100\n",
    "p=0.5\n",
    "q=1-p\n",
    "k=40\n",
    "ld = n*p\n",
    "print(ld)\n",
    "prob1 = (m.pow(ld,k)*np.exp(-ld)) / m.factorial(k)\n",
    "comb = (m.factorial(n))/(m.factorial(n-k)*m.factorial(k))\n",
    "prob = comb*m.pow(p,k)*pow(q,n-k)\n",
    "print(prob)\n",
    "print(prob1)"
   ]
  },
  {
   "cell_type": "markdown",
   "metadata": {},
   "source": [
    "# Poisson Distribution"
   ]
  },
  {
   "cell_type": "markdown",
   "metadata": {},
   "source": [
    "# Question\n",
    "It is known that the probabilty of an item produced by a certain machine will be defective is 0.05.\n",
    "If the produced items are send in packets of 20.\n",
    "Find the number of packets containing exactly 2 defective items.\n",
    "Find by using binomial and poisson distribution\n",
    "\n",
    "let x be number of defective items"
   ]
  },
  {
   "cell_type": "code",
   "execution_count": 153,
   "metadata": {},
   "outputs": [
    {
     "name": "stdout",
     "output_type": "stream",
     "text": [
      "0.18867680126765368\n",
      "0.18393972058572117\n"
     ]
    }
   ],
   "source": [
    "import math as m\n",
    "n=20\n",
    "p=0.05\n",
    "q=1-p\n",
    "k=2\n",
    "ld = n*p\n",
    "\n",
    "#binomial\n",
    "binomial = nCr(n,k)*p**k*q**(n-k)\n",
    "print(binomial)\n",
    "\n",
    "#poisson dist\n",
    "poisson = (m.pow(ld,k)*np.exp(-ld)) / m.factorial(k)\n",
    "print(poisson)"
   ]
  },
  {
   "cell_type": "markdown",
   "metadata": {},
   "source": [
    "# Exponential Distribution"
   ]
  },
  {
   "cell_type": "code",
   "execution_count": 173,
   "metadata": {},
   "outputs": [
    {
     "data": {
      "image/png": "[encoded data removed]",
      "text/plain": [
       "<Figure size 432x288 with 1 Axes>"
      ]
     },
     "metadata": {
      "needs_background": "light"
     },
     "output_type": "display_data"
    }
   ],
   "source": [
    "import numpy as np\n",
    "import matplotlib.pyplot as plt\n",
    "l=0.5\n",
    "x = np.arange(0,10,0.5)\n",
    "y = l * np.exp(-l*x)\n",
    "plt.plot(x,y)\n",
    "plt.show()"
   ]
  },
  {
   "cell_type": "code",
   "execution_count": null,
   "metadata": {},
   "outputs": [],
   "source": []
  }
 ],
 "metadata": {
  "kernelspec": {
   "display_name": "Python 3",
   "language": "python",
   "name": "python3"
  },
  "language_info": {
   "codemirror_mode": {
    "name": "ipython",
    "version": 3
   },
   "file_extension": ".py",
   "mimetype": "text/x-python",
   "name": "python",
   "nbconvert_exporter": "python",
   "pygments_lexer": "ipython3",
   "version": "3.7.3"
  }
 },
 "nbformat": 4,
 "nbformat_minor": 2
}
